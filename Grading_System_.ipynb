{
  "nbformat": 4,
  "nbformat_minor": 0,
  "metadata": {
    "colab": {
      "provenance": [],
      "collapsed_sections": [],
      "authorship_tag": "ABX9TyOIjW995J2jsdt5/+UTGopn",
      "include_colab_link": true
    },
    "kernelspec": {
      "name": "python3",
      "display_name": "Python 3"
    },
    "language_info": {
      "name": "python"
    }
  },
  "cells": [
    {
      "cell_type": "markdown",
      "metadata": {
        "id": "view-in-github",
        "colab_type": "text"
      },
      "source": [
        "<a href=\"https://colab.research.google.com/github/PrantoHalder/Gradeing-system-for-Any-number-of-students-in-python/blob/main/Grading_System_.ipynb\" target=\"_parent\"><img src=\"https://colab.research.google.com/assets/colab-badge.svg\" alt=\"Open In Colab\"/></a>"
      ]
    },
    {
      "cell_type": "code",
      "execution_count": 13,
      "metadata": {
        "colab": {
          "base_uri": "https://localhost:8080/"
        },
        "id": "ZV8vDzmVw5QA",
        "outputId": "f6972057-5be1-4877-b429-d271cf018af6"
      },
      "outputs": [
        {
          "output_type": "stream",
          "name": "stdout",
          "text": [
            "enter the number of a students = 5\n",
            "enter the mark of a student = 45\n",
            "The grade for this mark = D\n",
            "enter the mark of a student = 60\n",
            "The grade for this mark = B\n",
            "enter the mark of a student = 78\n",
            "The grade for this mark = B\n",
            "enter the mark of a student = 90\n",
            "The grade for this mark = A+\n",
            "enter the mark of a student = 89\n",
            "The grade for this mark = A\n"
          ]
        }
      ],
      "source": [
        "#This system will work for any number of students\n",
        "NumberOfStudents=int(input(\"enter the number of a students = 7\"))\n",
        "for i in range(0,NumberOfStudents):\n",
        "  mark=int(input(\"enter the mark of a student = \"))\n",
        "  if mark < 25:\n",
        "    print(\"Fail\")\n",
        "    \n",
        "  elif mark >= 25 and mark <= 44 :\n",
        "    print(\"The grade for this mark = E\") \n",
        "    \n",
        "  elif mark >= 45 and mark <= 49:\n",
        "    print(\"The grade for this mark = D\") \n",
        "    \n",
        "  elif mark >= 50 and mark <= 59:\n",
        "    print(\"The grade for this mark = C\")\n",
        "    \n",
        "  elif mark >= 60 and mark <= 79:\n",
        "    print(\"The grade for this mark = B\") \n",
        "   \n",
        "  elif mark >= 80 and mark <= 89:\n",
        "    print(\"The grade for this mark = A\") \n",
        "    \n",
        "  elif mark >= 90 and mark <= 100:\n",
        "    print(\"The grade for this mark = A+\")\n",
        "    \n",
        "  else:\n",
        "    print(\"The mmark is not valid\") \n",
        "    "
      ]
    }
  ]
}